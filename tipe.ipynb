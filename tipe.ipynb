{
 "cells": [
  {
   "cell_type": "code",
   "execution_count": null,
   "metadata": {},
   "outputs": [],
   "source": [
    "nama = \"Jordy\"\n",
    "usia = 21\n",
    "print(nama)\n",
    "print(usia)\n",
    "print(nama, usia)"
   ]
  },
  {
   "cell_type": "code",
   "execution_count": null,
   "metadata": {},
   "outputs": [],
   "source": [
    "nama = \"Jordy\"\n",
    "usia = 22\n",
    "berat = 60.9\n",
    "isMarried = False\n",
    "x = None\n",
    "y = 5j\n",
    "print('Halo, namaku', nama, 'usiaku', usia)\n",
    "print('Halo, namaku ' + nama + ' usiaku ' + str(usia))\n",
    "print('Halo saya %s usia %d' % (nama, usia))\n",
    "print('Halo saya {} usia {}'.format(nama, usia))\n",
    "print(f'Halo saya {nama} usia {usia}')\n",
    "print('Halo, namaku', nama, 'usiaku', usia, 'berat badanku', berat)\n",
    "print('Halo, namaku', nama, 'usiaku', usia, 'berat badanku', berat, 'aku sudah menikah', isMarried)"
   ]
  },
  {
   "cell_type": "code",
   "execution_count": null,
   "metadata": {},
   "outputs": [],
   "source": [
    "print(type(nama))\n",
    "print(type(usia))\n",
    "print(type(berat))\n",
    "print(type(isMarried))\n",
    "print(type(x))\n",
    "print(type(y))"
   ]
  }
 ],
 "metadata": {
  "kernelspec": {
   "display_name": "Python 3",
   "language": "python",
   "name": "python3"
  },
  "language_info": {
   "codemirror_mode": {
    "name": "ipython",
    "version": 3
   },
   "file_extension": ".py",
   "mimetype": "text/x-python",
   "name": "python",
   "nbconvert_exporter": "python",
   "pygments_lexer": "ipython3",
   "version": "3.8.1"
  }
 },
 "nbformat": 4,
 "nbformat_minor": 4
}

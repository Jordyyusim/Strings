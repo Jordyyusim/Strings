{
 "cells": [
  {
   "cell_type": "markdown",
   "metadata": {},
   "source": [
    "### __INTEGER__"
   ]
  },
  {
   "cell_type": "code",
   "execution_count": null,
   "metadata": {},
   "outputs": [],
   "source": [
    "x = 12\n",
    "y = 34.8\n",
    "\n",
    "print (12 // 5) #floor division\n",
    "print (float(12 // 5))\n",
    "print (abs(-1000))\n",
    "print (pow(2, 3))  #pangkat\n",
    "\n",
    "print(round(3.1))\n",
    "print(round(3.81232, 3))\n",
    "\n",
    "print(max(1,2,3,4,5,6))\n",
    "print(min(1,2,3,4,5,6))\n",
    "\n",
    "print(0.1 + 0.2)\n",
    "print(round(0.1 + 0.2, 1))"
   ]
  },
  {
   "cell_type": "markdown",
   "metadata": {},
   "source": [
    "### soal 1\n",
    "<hr>\n",
    "\n",
    "#### x + y = 13\n",
    "#### 4x + 2y = 32"
   ]
  },
  {
   "cell_type": "code",
   "execution_count": null,
   "metadata": {},
   "outputs": [],
   "source": [
    "totalekor = 13\n",
    "totalkaki = 32\n",
    "'''\n",
    "k + a = 13  => k = 13 - a\n",
    "4k + 2a = 32\n",
    "4(13 - a) + 2a = 32\n",
    "52 - 4a + 2a = 32\n",
    "a = (52-32) / 2\n",
    "'''\n",
    "ayam = round((4 * totalekor - totalkaki) / 2)\n",
    "kambing = round(totalekor - ayam)\n",
    "print('total kambing', kambing, 'ekor')\n",
    "print('total ayam', ayam, 'ekor')"
   ]
  },
  {
   "cell_type": "markdown",
   "metadata": {},
   "source": [
    "### soal 2\n",
    "<hr>\n",
    "\n",
    "### umur ayah + umur andi = 56. perbandingan umur mereka 5:2"
   ]
  },
  {
   "cell_type": "code",
   "execution_count": null,
   "metadata": {},
   "outputs": [],
   "source": [
    "ay + an = 56\n",
    "ay = 56 - an\n",
    "ay / an = 5 / 2\n",
    "ay = 2.5 * an\n",
    "56 - an = 2.5 * an\n",
    "56 - an = 2.5an\n",
    "56 = 3.5an => total = (rasio + 1) * an\n",
    "andi = total / (rasio + 1)\n",
    "ayah = total - andi\n",
    "'''\n",
    "umurayah = round(56 / (2.5 + 1))\n",
    "umurandi = round(56 - umurayah)\n",
    "print(umurayah, 'tahun')\n",
    "print(umurandi, 'tahun')"
   ]
  },
  {
   "cell_type": "code",
   "execution_count": null,
   "metadata": {},
   "outputs": [],
   "source": [
    "a = 10\n",
    "a = a + 1\n",
    "a += 1\n",
    "print(a)\n",
    "a -= 2\n",
    "print(a)\n",
    "a *= 10\n",
    "print(a)\n",
    "a **= 2\n",
    "print(a)"
   ]
  }
 ],
 "metadata": {
  "kernelspec": {
   "display_name": "Python 3",
   "language": "python",
   "name": "python3"
  },
  "language_info": {
   "codemirror_mode": {
    "name": "ipython",
    "version": 3
   },
   "file_extension": ".py",
   "mimetype": "text/x-python",
   "name": "python",
   "nbconvert_exporter": "python",
   "pygments_lexer": "ipython3",
   "version": "3.8.1"
  }
 },
 "nbformat": 4,
 "nbformat_minor": 4
}

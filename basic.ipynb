{
 "cells": [
  {
   "cell_type": "code",
   "execution_count": 1,
   "metadata": {},
   "outputs": [
    {
     "name": "stdout",
     "output_type": "stream",
     "text": [
      "Jum'at\n",
      "Jum'at\n",
      "Andi\tBudi\n",
      "Andi\n",
      "Budi\n"
     ]
    }
   ],
   "source": [
    "print(\"Jum'at\")\n",
    "print('Jum\\'at')\n",
    "print('Andi\\tBudi')\n",
    "print('Andi\\nBudi')"
   ]
  },
  {
   "cell_type": "code",
   "execution_count": null,
   "metadata": {},
   "outputs": [],
   "source": [
    "# x = 'Purwadhika'\n",
    "# y = 'Startup & Coding School'\n",
    "# print(x + y)\n",
    "# print(x, y)"
   ]
  },
  {
   "cell_type": "code",
   "execution_count": null,
   "metadata": {},
   "outputs": [],
   "source": [
    "# z = \"12\"\n",
    "# a = 12\n",
    "# print(z + z)\n",
    "# print(int(z) + int(z))\n",
    "# print(a + a)\n",
    "# print(str(a)+ str(a))\n",
    "# print(int(z) + a)\n",
    "# print(z + str(a))"
   ]
  },
  {
   "cell_type": "code",
   "execution_count": null,
   "metadata": {},
   "outputs": [],
   "source": [
    "nama = \"Jordy\"\n",
    "usia = 24\n",
    "kelamin = \"pria\"\n",
    "pekerjaan = \"murid\"\n",
    "\n",
    "print(nama)\n",
    "print(usia)\n",
    "print(kelamin)\n",
    "print(pekerjaan)\n",
    "print('Nama kamu?', nama)\n",
    "print('Usia kamu?', usia)\n",
    "print('kelamin kamu?', kelamin)\n",
    "print('pekerjaan kamu?', pekerjaan)\n"
   ]
  },
  {
   "cell_type": "code",
   "execution_count": null,
   "metadata": {},
   "outputs": [],
   "source": [
    "nama = \"Jordy\"\n",
    "usia = 24\n",
    "kelamin = \"pria\"\n",
    "pekerjaan = \"murid\"\n",
    "\n",
    "nama = input(\"nama kamu? :\")\n",
    "usia = input('usia kamu? ')\n",
    "kelamin = input('kelamin kamu? ')\n",
    "kerja = input('pekerjaan kamu? ')\n",
    "print('oke', nama)\n",
    "print('oke', usia)\n",
    "print('oke', kelamin)\n",
    "print('oke', kerja)"
   ]
  },
  {
   "cell_type": "code",
   "execution_count": null,
   "metadata": {},
   "outputs": [],
   "source": [
    "# x = 10\n",
    "# y = 5\n",
    "# z = 2\n",
    "# print(x + y)\n",
    "# print(y - x)\n",
    "# print(x * y)\n",
    "# print(x / y)\n",
    "# print(x **2)\n",
    "# print(x % y)\n",
    "# print(str(x) + str(y))\n",
    "# print(((x + y * z)**2 / (x * y)))"
   ]
  },
  {
   "cell_type": "code",
   "execution_count": null,
   "metadata": {},
   "outputs": [],
   "source": [
    "# m = 30\n",
    "# n = 70\n",
    "# op = 2*(m + n )\n",
    "# print(m)\n",
    "# print(n)\n",
    "# print(op)\n",
    "\n",
    "# m += 3\n",
    "# n *= 4\n",
    "# print(m)\n",
    "# print(n)"
   ]
  }
 ],
 "metadata": {
  "kernelspec": {
   "display_name": "Python 3",
   "language": "python",
   "name": "python3"
  },
  "language_info": {
   "codemirror_mode": {
    "name": "ipython",
    "version": 3
   },
   "file_extension": ".py",
   "mimetype": "text/x-python",
   "name": "python",
   "nbconvert_exporter": "python",
   "pygments_lexer": "ipython3",
   "version": "3.8.1"
  }
 },
 "nbformat": 4,
 "nbformat_minor": 4
}

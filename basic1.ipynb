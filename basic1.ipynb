{
 "cells": [
  {
   "cell_type": "markdown",
   "metadata": {},
   "source": [
    "### __UPPER & LOWER__"
   ]
  },
  {
   "cell_type": "code",
   "execution_count": 1,
   "metadata": {},
   "outputs": [
    {
     "name": "stdout",
     "output_type": "stream",
     "text": [
      "ini string\n",
      "INI STRING\n",
      "True\n",
      "False\n",
      "True\n",
      "False\n"
     ]
    }
   ],
   "source": [
    "x = 'Ini String'\n",
    "\n",
    "print(x.lower())\n",
    "print(x.upper())\n",
    "\n",
    "print(x.lower().islower())\n",
    "print(x.upper().islower())\n",
    "print(x.upper().isupper())\n",
    "print(x.lower().isupper())\n"
   ]
  },
  {
   "cell_type": "markdown",
   "metadata": {},
   "source": [
    "### __LENGTH__"
   ]
  },
  {
   "cell_type": "code",
   "execution_count": null,
   "metadata": {},
   "outputs": [],
   "source": [
    "print(len(x))    "
   ]
  },
  {
   "cell_type": "markdown",
   "metadata": {},
   "source": [
    "### __INDEXING__\n",
    "##### [start : stop : step]"
   ]
  },
  {
   "cell_type": "code",
   "execution_count": null,
   "metadata": {},
   "outputs": [],
   "source": [
    "y = 'purwadhika'\n",
    "print(len(y))\n",
    "print(y[2])\n",
    "print(y[0])\n",
    "print(y[0:5])\n",
    "print(y[0:6])\n",
    "print(y[0:len(y)])\n",
    "print(y[0:10:2])    \n",
    "print(y.index('p'))\n",
    "print(y.index('a'))\n",
    "print(y.index('dhika'))"
   ]
  }
 ],
 "metadata": {
  "kernelspec": {
   "display_name": "Python 3",
   "language": "python",
   "name": "python3"
  },
  "language_info": {
   "codemirror_mode": {
    "name": "ipython",
    "version": 3
   },
   "file_extension": ".py",
   "mimetype": "text/x-python",
   "name": "python",
   "nbconvert_exporter": "python",
   "pygments_lexer": "ipython3",
   "version": "3.8.1"
  }
 },
 "nbformat": 4,
 "nbformat_minor": 4
}

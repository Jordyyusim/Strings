{
 "cells": [
  {
   "cell_type": "markdown",
   "metadata": {},
   "source": [
    "### REPLACING STRING"
   ]
  },
  {
   "cell_type": "code",
   "execution_count": null,
   "metadata": {},
   "outputs": [],
   "source": [
    "z = 'Andi ditara'\n",
    "print(z.replace('A', 'O'))\n",
    "print(z.replace('a', 'o'))\n",
    "print(z.replace('di', 'na'))\n",
    "\n",
    "z = z.replace('a', 'o').replace('i', 's')\n",
    "print(z)"
   ]
  },
  {
   "cell_type": "code",
   "execution_count": null,
   "metadata": {},
   "outputs": [],
   "source": [
    "kata = 'Purwadhika Startup and Coding School'\n",
    "print(len(kata))\n",
    "# berapa huruf kata diatas\n",
    "print(len(kata.replace(' ', '')))"
   ]
  },
  {
   "cell_type": "markdown",
   "metadata": {},
   "source": [
    "### COUNTING STRING"
   ]
  },
  {
   "cell_type": "code",
   "execution_count": 3,
   "metadata": {},
   "outputs": [
    {
     "name": "stdin",
     "output_type": "stream",
     "text": [
      "Ketik Kalimat :  saya\n",
      "Ketik huruf yang dicari:  a\n"
     ]
    },
    {
     "name": "stdout",
     "output_type": "stream",
     "text": [
      "2\n",
      "jumlah huruf a = 2\n"
     ]
    }
   ],
   "source": [
    "kalimat = input('Ketik Kalimat : ')\n",
    "cari = input('Ketik huruf yang dicari: ')\n",
    "jmlCari = len(kalimat) - len(kalimat.replace(cari, ''))\n",
    "# print(kalimat.count(cari))\n",
    "print(kalimat.count('a'))\n",
    "print('jumlah huruf', cari, '=', jmlCari)"
   ]
  },
  {
   "cell_type": "code",
   "execution_count": null,
   "metadata": {},
   "outputs": [],
   "source": [
    "# # berapa huruf a kata diatas\n",
    "# print(kata.count ('a'))\n",
    "# print(len(kata) - len(kata.replace('p', '')))\n",
    "# # berapa huruf p kata diatas\n",
    "# print(kata.upper().count('P'))\n",
    "# print(len(kata) - len(kata.upper().replace('P', '')))"
   ]
  },
  {
   "cell_type": "code",
   "execution_count": null,
   "metadata": {},
   "outputs": [],
   "source": [
    "# berapa kata hari\n",
    "# kals = 'Hari ini Hari tidak masuk sekolah karena hari libur'\n",
    "# cari = 'hari'\n",
    "# print(kals.lower().count('hari'))\n",
    "# selisih = (len(kals) - len(kals.lower().replace('hari', '')))\n",
    "# jmlCari = selisih / len(cari)\n",
    "# print('jumlah kata', jmlCari, 'kata')"
   ]
  },
  {
   "cell_type": "code",
   "execution_count": null,
   "metadata": {},
   "outputs": [],
   "source": [
    "tes = 'AdaA tiga anak'\n",
    "# print(len(tes))\n",
    "# print(len(tes.replace(' ', '')))\n",
    "# print(tes.count(' '))\n",
    "# print(tes.lower().count('a'))"
   ]
  }
 ],
 "metadata": {
  "kernelspec": {
   "display_name": "Python 3",
   "language": "python",
   "name": "python3"
  },
  "language_info": {
   "codemirror_mode": {
    "name": "ipython",
    "version": 3
   },
   "file_extension": ".py",
   "mimetype": "text/x-python",
   "name": "python",
   "nbconvert_exporter": "python",
   "pygments_lexer": "ipython3",
   "version": "3.8.1"
  }
 },
 "nbformat": 4,
 "nbformat_minor": 4
}
